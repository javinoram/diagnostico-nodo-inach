{
 "cells": [
  {
   "cell_type": "code",
   "execution_count": 1,
   "metadata": {},
   "outputs": [],
   "source": [
    "import pandas as pd\n",
    "import datetime\n",
    "import numpy as np\n",
    "from nombres import normalizacion_nombres\n",
    "from nacionalidades import normalizacion_paises\n",
    "from institucion import normalizacion_universidades\n",
    "from funciones import limpiar_caracteres_especiales, limpiar_funciones, instrumento_financiamiento, normalizacion_ciudad, ciudad_a_region\n",
    "from funciones import institucion_instrumento, descripcion_codigo_inach, region_institucion, macrozona_region, proyecto_concursable\n",
    "from funciones import categorizacion_fondos_wos, filtrar_normalizacion_funding_wos\n",
    "from area_ocde import equivalencia_objetivos"
   ]
  },
  {
   "cell_type": "code",
   "execution_count": 2,
   "metadata": {},
   "outputs": [],
   "source": [
    "ruta_lectura = \"wos/chile/\"\n",
    "ruta_final = \"wos/chile/finales/\"\n",
    "lista_hojas = [1, 2]"
   ]
  },
  {
   "cell_type": "markdown",
   "metadata": {},
   "source": [
    "### Trabajos WOS"
   ]
  },
  {
   "cell_type": "code",
   "execution_count": 3,
   "metadata": {},
   "outputs": [],
   "source": [
    "tmp_xls = []\n",
    "dict_orcids = dict()\n",
    "\n",
    "for n in lista_hojas:\n",
    "    xls_base = pd.read_excel(f\"{ruta_lectura}chile-2010-2023({n}).xls\")\n",
    "    for i,row in enumerate( xls_base.to_numpy().tolist() ):\n",
    "        authors_short = [ n.lower().strip().split(',') for n in row[0].split(';') ]\n",
    "        authors_short = [limpiar_caracteres_especiales( f'{nom.strip()} {ape.strip()}' ) for ape, nom in authors_short]\n",
    "        \n",
    "        authors_full = [ n.lower().strip().split(',') for n in row[1].split(';') ]\n",
    "        authors_full = [limpiar_caracteres_especiales( f'{nom.strip()} {ape.strip()}' ) for ape, nom in authors_full]\n",
    "        source_title = limpiar_caracteres_especiales( row[3].lower().strip() )\n",
    "        \n",
    "        orcid = [ p.lower().strip() for p in row[14].split(';') ]\n",
    "        orcid = [ p.split('/') for p in orcid if p!='noinf']\n",
    "        for p, o in orcid:\n",
    "            if p == '': p= \"noinf, noinf\"\n",
    "            ape, nom = p.lower().strip().split(',')\n",
    "            nombre = limpiar_caracteres_especiales( f'{nom.strip()} {ape.strip()}' )\n",
    "            dict_orcids[ nombre ] = o\n",
    "\n",
    "        funding = row[15]\n",
    "        funding = funding.split(';')\n",
    "        funding = [ categorizacion_fondos_wos(f) for f in funding ]\n",
    "        anid, inach, extranjero, corfo, otro = filtrar_normalizacion_funding_wos( funding )\n",
    "\n",
    "        year = row[30]\n",
    "        doi = row[31]\n",
    "        address = row[9]\n",
    "        affiliation = row[10]\n",
    "\n",
    "        #for person_full, person_short in zip(authors_full, authors_short):\n",
    "        #    pass\n",
    "            #if person_full in dict_orcids.keys():\n",
    "            #    print( dict_orcids[person_full] )\n",
    "        tmp_xls.append([source_title, doi, year, anid, inach, extranjero, corfo, otro])"
   ]
  },
  {
   "cell_type": "markdown",
   "metadata": {},
   "source": [
    "### Personas WOS"
   ]
  },
  {
   "cell_type": "code",
   "execution_count": null,
   "metadata": {},
   "outputs": [],
   "source": []
  },
  {
   "cell_type": "code",
   "execution_count": null,
   "metadata": {},
   "outputs": [],
   "source": []
  }
 ],
 "metadata": {
  "kernelspec": {
   "display_name": "venv",
   "language": "python",
   "name": "python3"
  },
  "language_info": {
   "codemirror_mode": {
    "name": "ipython",
    "version": 3
   },
   "file_extension": ".py",
   "mimetype": "text/x-python",
   "name": "python",
   "nbconvert_exporter": "python",
   "pygments_lexer": "ipython3",
   "version": "3.12.4"
  }
 },
 "nbformat": 4,
 "nbformat_minor": 2
}
