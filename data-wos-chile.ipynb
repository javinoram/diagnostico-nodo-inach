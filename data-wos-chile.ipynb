{
 "cells": [
  {
   "cell_type": "code",
   "execution_count": 1,
   "metadata": {},
   "outputs": [],
   "source": [
    "import pandas as pd\n",
    "import datetime\n",
    "import numpy as np\n",
    "from funciones import limpiar_caracteres_especiales\n",
    "from funciones import categorizacion_fondos_wos, filtrar_normalizacion_funding_wos, normalizar_casa_publicacion"
   ]
  },
  {
   "cell_type": "code",
   "execution_count": 2,
   "metadata": {},
   "outputs": [],
   "source": [
    "ruta_lectura = \"wos/chile/\"\n",
    "ruta_final = \"wos/chile/finales/\"\n",
    "lista_hojas = [1, 2]"
   ]
  },
  {
   "cell_type": "markdown",
   "metadata": {},
   "source": [
    "### Trabajos WOS"
   ]
  },
  {
   "cell_type": "code",
   "execution_count": null,
   "metadata": {},
   "outputs": [],
   "source": [
    "tmp_xls = []\n",
    "\n",
    "for n in lista_hojas:\n",
    "    xls_base = pd.read_excel(f\"{ruta_lectura}chile-2010-2023({n}).xls\")\n",
    "    for i,row in enumerate( xls_base.to_numpy().tolist() ):\n",
    "        authors_short = [ limpiar_caracteres_especiales( n.lower().strip() ) for n in row[0].split(';') ]\n",
    "        authors_full = [ limpiar_caracteres_especiales( n.lower().strip() ) for n in row[1].split(';') ]\n",
    "    \n",
    "        source_title = limpiar_caracteres_especiales( row[2].lower().strip() )\n",
    "        funding = row[15]\n",
    "        funding = funding.split(';')\n",
    "        funding = [ categorizacion_fondos_wos(f) for f in funding ]\n",
    "        anid, inach, extranjero, corfo, otro, uni = filtrar_normalizacion_funding_wos( funding )\n",
    "\n",
    "        year = row[30]\n",
    "        doi = row[31]\n",
    "        address = row[9]\n",
    "\n",
    "        affiliation = limpiar_caracteres_especiales( row[9].lower().strip() )\n",
    "        aff_paper = 'no'\n",
    "        if 'chile' in affiliation:\n",
    "            aff_paper = 'si'\n",
    "\n",
    "        n_aff_chile = 0\n",
    "        n_aff_inter = 0\n",
    "        for person_full, person_short in zip(authors_full, authors_short):\n",
    "            if any([ person_full in aff or person_short in aff for aff in affiliation.split(';') if 'chile' in aff]): \n",
    "                n_aff_chile += 1\n",
    "            else:\n",
    "                n_aff_inter += 1\n",
    "            \n",
    "        publish_house = normalizar_casa_publicacion( row[23] ) \n",
    "\n",
    "        tmp_xls.append([source_title, doi, year, anid, inach, extranjero, corfo, \n",
    "            uni, otro, aff_paper, n_aff_chile, n_aff_inter, publish_house])"
   ]
  },
  {
   "cell_type": "code",
   "execution_count": 9,
   "metadata": {},
   "outputs": [],
   "source": [
    "fecha = datetime.datetime.now()\n",
    "\n",
    "full_dataframe = pd.DataFrame(np.array(tmp_xls), columns=['titulo', 'doi', 'anio', 'fin-anid', 'fin-inach', 'fin-extranjero', \n",
    "        'fin-corfo', 'fin-uni', 'fin-otro', 'aff-chile', 'n-chilenos', 'n-extranjeros', 'publisher'])\n",
    "full_dataframe.to_excel(f\"{ruta_final}WOS todos-papers {fecha.day}.{fecha.month}.{fecha.year}.xlsx\")"
   ]
  }
 ],
 "metadata": {
  "kernelspec": {
   "display_name": "venv",
   "language": "python",
   "name": "python3"
  },
  "language_info": {
   "codemirror_mode": {
    "name": "ipython",
    "version": 3
   },
   "file_extension": ".py",
   "mimetype": "text/x-python",
   "name": "python",
   "nbconvert_exporter": "python",
   "pygments_lexer": "ipython3",
   "version": "3.12.4"
  }
 },
 "nbformat": 4,
 "nbformat_minor": 2
}
