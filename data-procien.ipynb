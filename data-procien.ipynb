{
 "cells": [
  {
   "cell_type": "code",
   "execution_count": 18,
   "metadata": {},
   "outputs": [],
   "source": [
    "import pandas as pd\n",
    "import datetime\n",
    "import numpy as np\n",
    "from private_stuff.nombres import normalizacion_nombres\n",
    "from private_stuff.nacionalidades import normalizacion_paises\n",
    "from private_stuff.institucion import normalizacion_universidades\n",
    "from funciones import limpiar_caracteres_especiales, limpiar_funciones, instrumento_financiamiento, normalizacion_ciudad, ciudad_a_region\n",
    "from funciones import institucion_instrumento, descripcion_codigo_inach, region_institucion, macrozona_region, proyecto_concursable\n",
    "from area_ocde import equivalencia_objetivos"
   ]
  },
  {
   "cell_type": "markdown",
   "metadata": {},
   "source": [
    "### Funciones utiles"
   ]
  },
  {
   "cell_type": "code",
   "execution_count": 19,
   "metadata": {},
   "outputs": [],
   "source": [
    "ruta_lectura = \"procien/\"\n",
    "ruta_final = \"procien/finales/\"\n",
    "lista_hojas = ['2014', '2015', '2016', '2017', '2018', '2019', '2020', '2021', '2022', '2023', '2024']"
   ]
  },
  {
   "cell_type": "markdown",
   "metadata": {},
   "source": [
    "## Investigadores asociados"
   ]
  },
  {
   "cell_type": "code",
   "execution_count": 20,
   "metadata": {},
   "outputs": [],
   "source": [
    "xls_base = pd.read_excel(f\"{ruta_lectura}PROCIEN clean data.xlsx\", sheet_name=lista_hojas)"
   ]
  },
  {
   "cell_type": "code",
   "execution_count": null,
   "metadata": {},
   "outputs": [],
   "source": [
    "new_xls = []\n",
    "\n",
    "for n in lista_hojas:\n",
    "    tmp_xls = xls_base[n][['codigo', 'titulo', 'pi', 'ciudad', 'persona', 'inst', 'pais', 'genero']]\n",
    "    \n",
    "    for row in tmp_xls.to_numpy().tolist():\n",
    "        codigo, titulo, pi, ciudad, persona, inst, pais, genero = row\n",
    "\n",
    "        codigo = codigo.split( ' ' )[0].replace( '_', '-' )\n",
    "        concursable =  proyecto_concursable( codigo.split('-')[0] )\n",
    "        o1, o2, o3 = equivalencia_objetivos[codigo]\n",
    "        proyecto, tesis, terreno = descripcion_codigo_inach( codigo )\n",
    "        instrumento = instrumento_financiamiento( codigo.split('-')[0] )\n",
    "        inst_instrumento = institucion_instrumento( codigo )\n",
    "\n",
    "        titulo = limpiar_caracteres_especiales( titulo.lower() )\n",
    "\n",
    "        inst = limpiar_caracteres_especiales( inst.lower().strip() )\n",
    "        inst = normalizacion_universidades[ inst ]\n",
    "        region_inst = region_institucion[inst]\n",
    "        macro_inst = macrozona_region[region_inst]\n",
    "\n",
    "        pais = normalizacion_paises[ limpiar_caracteres_especiales( pais.lower() ).strip().upper() ].lower().strip()\n",
    "        persona = normalizacion_nombres[ limpiar_caracteres_especiales( persona.lower().strip() ) ]\n",
    "\n",
    "        ciudad = normalizacion_ciudad[ limpiar_caracteres_especiales( ciudad.lower().strip() ) ]\n",
    "        region_ciudad = ciudad_a_region[ciudad]\n",
    "        macro_ciudad = macrozona_region[region_ciudad]\n",
    "\n",
    "        pi = limpiar_caracteres_especiales( pi.lower() ).strip()\n",
    "        if '/' in pi:\n",
    "            pi = pi.split('/')[0].strip()\n",
    "        elif '-' in pi:\n",
    "            pi = pi.split('-')[0].strip()\n",
    "        pi = normalizacion_nombres[pi]\n",
    "\n",
    "        new_xls.append([n, codigo, proyecto, tesis, terreno, concursable, instrumento, inst_instrumento, titulo, pi, \n",
    "            inst, region_inst, macro_inst, pais, persona, ciudad, region_ciudad, macro_ciudad, o1, o2, o3]) \n",
    "        \n",
    "    print(f\"{n} done\")"
   ]
  },
  {
   "cell_type": "code",
   "execution_count": 5,
   "metadata": {},
   "outputs": [],
   "source": [
    "fecha = datetime.datetime.now()\n",
    "\n",
    "full_dataframe = pd.DataFrame(np.array(new_xls), columns=['anio', 'codigo', 'tipo-proyecto', 'tesis', \n",
    "    'terreno', 'consursable', 'instrumento', 'inst-instrumento', 'titulo', 'pi', 'inst', 'region-inst', 'macro-inst',\n",
    "    'pais', 'persona', 'ciudad-pi', 'region-pi', 'macro-pi', 'ocde', 'inach', 'anid'])\n",
    "full_dataframe.to_excel(f\"{ruta_final}PROCIEN todos-personas {fecha.day}.{fecha.month}.{fecha.year}.xlsx\")"
   ]
  },
  {
   "cell_type": "markdown",
   "metadata": {},
   "source": [
    "### Rendiciones de proyectos"
   ]
  },
  {
   "cell_type": "code",
   "execution_count": 21,
   "metadata": {},
   "outputs": [],
   "source": [
    "excel_file = pd.ExcelFile(f\"{ruta_lectura}PROCIEN rendiciones.xlsx\")\n",
    "codigos = excel_file.sheet_names"
   ]
  },
  {
   "cell_type": "code",
   "execution_count": 22,
   "metadata": {},
   "outputs": [],
   "source": [
    "new_xls = []\n",
    "xls_base = pd.read_excel(f\"{ruta_lectura}PROCIEN rendiciones.xlsx\",  sheet_name=codigos)\n",
    "\n",
    "for codigo in codigos:\n",
    "    tmp_xls = xls_base[codigo][['FECHA', 'DETALLE', 'OTORGADO', 'RENDIDO', 'SALDO']]\n",
    "\n",
    "    codigo = codigo.replace('_', '-')\n",
    "    concursable =  proyecto_concursable( codigo.split('-')[0] )\n",
    "    proyecto, tesis, terreno = descripcion_codigo_inach( codigo )\n",
    "        \n",
    "    anio_proyecto = f\"20{ codigo.split('-')[2] }\"\n",
    "    \n",
    "    for row in tmp_xls.to_numpy().tolist():\n",
    "        fecha, detalle, monto, _, _ = row\n",
    "        anio_asignacion = fecha.year\n",
    "        detalle = limpiar_caracteres_especiales( detalle.lower().strip() )\n",
    "\n",
    "        monto_asignado = float(monto)\n",
    "        if 'fondos' in detalle and not ('rd' in detalle or 'devolucion' in detalle or 'renintegro' in detalle or 'reintegro' in detalle or 'pago' in detalle or 'restitucion' in detalle):\n",
    "            new_xls.append( [anio_proyecto, codigo, concursable, proyecto, tesis, terreno, monto_asignado, anio_asignacion, 'fondos'] )\n",
    "        elif 'overhead' in detalle and not ('rinde' in detalle or 'rendicion' in detalle  or 'renintegro' in detalle or 'reintegro' in detalle or 'pago' in detalle or 'restitucion' in detalle or 'devolucion' in detalle or 'factura' in detalle):\n",
    "            new_xls.append( [anio_proyecto, codigo, concursable, proyecto, tesis, terreno, monto_asignado, anio_asignacion, 'overhead'] )"
   ]
  },
  {
   "cell_type": "code",
   "execution_count": 23,
   "metadata": {},
   "outputs": [],
   "source": [
    "fecha = datetime.datetime.now()\n",
    "\n",
    "full_dataframe = pd.DataFrame(np.array(new_xls), columns=['anio_proyecto', 'codigo', 'concursable', \n",
    "        'proyecto', 'tesis', 'terreno', 'monto_entregado', 'anio_entrega', 'tipo'])\n",
    "full_dataframe.to_excel(f\"{ruta_final}PROCIEN codigos-rendiciones {fecha.day}.{fecha.month}.{fecha.year}.xlsx\")"
   ]
  }
 ],
 "metadata": {
  "kernelspec": {
   "display_name": "venv",
   "language": "python",
   "name": "python3"
  },
  "language_info": {
   "codemirror_mode": {
    "name": "ipython",
    "version": 3
   },
   "file_extension": ".py",
   "mimetype": "text/x-python",
   "name": "python",
   "nbconvert_exporter": "python",
   "pygments_lexer": "ipython3",
   "version": "3.12.4"
  }
 },
 "nbformat": 4,
 "nbformat_minor": 2
}
