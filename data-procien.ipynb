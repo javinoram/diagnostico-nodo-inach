{
 "cells": [
  {
   "cell_type": "code",
   "execution_count": 1,
   "metadata": {},
   "outputs": [],
   "source": [
    "import pandas as pd\n",
    "import os\n",
    "import numpy as np"
   ]
  },
  {
   "cell_type": "code",
   "execution_count": 2,
   "metadata": {},
   "outputs": [],
   "source": [
    "ruta_lectura = \"procien/\"\n",
    "ruta_final = \"procien/finales/\""
   ]
  },
  {
   "cell_type": "markdown",
   "metadata": {},
   "source": [
    "## Investigadores asociados"
   ]
  },
  {
   "cell_type": "code",
   "execution_count": 3,
   "metadata": {},
   "outputs": [],
   "source": [
    "anios = ['2014', '2015', '2016', '2017', '2018', '2019', '2020', '2021', '2022', '2023', '2024']\n",
    "xls_base = pd.read_excel(f\"{ruta_lectura}PROCIEN_Investigadores_julio.2024.xlsx\", sheet_name=anios)"
   ]
  },
  {
   "cell_type": "code",
   "execution_count": 4,
   "metadata": {},
   "outputs": [
    {
     "name": "stdout",
     "output_type": "stream",
     "text": [
      "fecha 2014\n",
      "fecha 2015\n",
      "fecha 2016\n",
      "fecha 2017\n",
      "fecha 2018\n",
      "fecha 2019\n",
      "fecha 2020\n",
      "fecha 2021\n",
      "fecha 2022\n",
      "fecha 2023\n",
      "fecha 2024\n"
     ]
    }
   ],
   "source": [
    "lista_dataframes_personas = []\n",
    "for n in anios:\n",
    "    print(f\"fecha {n}\")\n",
    "    tmp_xls = xls_base[n][['Código', 'Nombre IP', 'Equipo chileno', 'Instituciones', 'Equipo extranjero', 'Institución', 'País', 'Género']]#.dropna()\n",
    "    \n",
    "    lista = []\n",
    "    ##lista de paises\n",
    "    for pais, pers1, pers2 in zip(tmp_xls['País'], tmp_xls['Equipo chileno'], tmp_xls['Equipo extranjero']):\n",
    "        if pd.isna(pais):\n",
    "            if not pd.isna( pers1 ) or not pd.isna( pers2 ):\n",
    "                lista.append('')\n",
    "            else:\n",
    "                pass\n",
    "        else:\n",
    "            lista.append(pais)\n",
    "\n",
    "    lista1 = []\n",
    "    ##Unir equipo chileno con extranjero\n",
    "    for p1, p2 in zip( tmp_xls['Equipo chileno'], tmp_xls['Equipo extranjero'] ):\n",
    "        #print(p1,p2)\n",
    "        if pd.isna(p1) and pd.isna(p2):\n",
    "            #print(\"aca\")\n",
    "            pass\n",
    "        elif pd.isna(p1):\n",
    "            lista1.append( p2 )\n",
    "        elif pd.isna(p2):\n",
    "            lista1.append( p1 )\n",
    "        else:\n",
    "            print(p1,p2)\n",
    "\n",
    "    lista2 = []\n",
    "    ##Unir instituciones\n",
    "    for i, (perso, lugar1, lugar2) in enumerate( zip(lista1, tmp_xls['Instituciones'], tmp_xls['Institución'] ) ):\n",
    "        if pd.isna(lugar1) and pd.isna(lugar2):\n",
    "            if not pd.isna(perso):\n",
    "                lista2.append( '' )\n",
    "            else:\n",
    "                pass\n",
    "        elif pd.isna(lugar1):\n",
    "            lista2.append( lugar2 )\n",
    "        elif pd.isna(lugar2):\n",
    "            lista2.append( lugar1 )\n",
    "        else:\n",
    "            lista2.append( '' )\n",
    "\n",
    "    lista3 = []\n",
    "    ##lista con el genero\n",
    "    for g in tmp_xls['Género']:\n",
    "        if pd.isna(g):\n",
    "            pass\n",
    "        else:\n",
    "            lista3.append(g)\n",
    "\n",
    "    lista4 = []\n",
    "    ##lista con los codigos\n",
    "    code_base = ''\n",
    "    for code, gen in zip(tmp_xls['Código'], tmp_xls['Género']):\n",
    "        if code_base != code and not pd.isna(code):\n",
    "            code_base = code\n",
    "        \n",
    "        if not pd.isna(gen):\n",
    "            lista4.append(code_base) \n",
    "\n",
    "    lista5 = []\n",
    "    for _ in range( len(lista4) ):\n",
    "        lista5.append( n )\n",
    "\n",
    "    new_dataframe = [lista, lista1, lista2, lista3, lista4, lista5]\n",
    "    lista_dataframes_personas.append( pd.DataFrame(np.array(new_dataframe).T, columns=['pais', 'nombre', 'afiliacion', 'genero', 'codigo', 'anio']))"
   ]
  },
  {
   "cell_type": "code",
   "execution_count": null,
   "metadata": {},
   "outputs": [],
   "source": [
    "full_dataframe = pd.concat( lista_dataframes_personas )\n",
    "full_dataframe.to_excel(f\"{ruta_final}asociados-procien.xlsx\")"
   ]
  },
  {
   "cell_type": "markdown",
   "metadata": {},
   "source": [
    "## Investigadores principales"
   ]
  },
  {
   "cell_type": "code",
   "execution_count": 24,
   "metadata": {},
   "outputs": [],
   "source": [
    "def agrupacion_general(codigo):\n",
    "    final = ''\n",
    "    if codigo in [\"MT\", \"MG\", \"DT\", \"DG\", \"RG\", \"AMP\", \"RT\", \"AM\"]:\n",
    "        final = \"INACH\"\n",
    "    elif codigo in [\"FP\", \"FI\", \"FR\", \"PR\"]:\n",
    "        final = \"FONDECYT\"\n",
    "    elif codigo in [\"FOVI\", \"FV\"]:\n",
    "        final = \"FOMENTO\"\n",
    "    elif codigo in [\"INT\", \"IN\"]:\n",
    "        final = \"INTER\"\n",
    "    elif codigo in [\"FE\"]:\n",
    "        final = \"FONDEQUIP\"\n",
    "    elif codigo in [\"NE\"]:\n",
    "        final = \"NODO\"\n",
    "    elif codigo in [\"AN\"]:\n",
    "        final = \"ANILLO\"\n",
    "    elif codigo in [\"MI\", \"IM\"]:\n",
    "        final = \"MILENIO\"\n",
    "    elif codigo in [\"FD\"]:\n",
    "        final = \"FONDAP\"\n",
    "    return final\n",
    "\n",
    "\n",
    "def macrozona_anid(string):\n",
    "    if string in ['Antofagasta']:\n",
    "        return \"norte\"\n",
    "    elif string in ['Valparaiso', 'Valparaíso', 'Viña del Mar', 'Coquimbo', 'La Serena']:\n",
    "        return \"centro\"\n",
    "    elif string in ['Concepción', 'Talcahuano', 'Talca', 'Chillán', 'Los Angeles']:\n",
    "        return \"centro sur\"\n",
    "    elif string in ['Temuco', 'Temúco', 'Valdivia', 'Pto. Montt', 'Puerto Montt', 'Pto Montt']:\n",
    "        return \"sur\"\n",
    "    elif string in ['Punta Arenas', 'Pto. Williams', 'Puerto Williams']:\n",
    "        return \"austral\"\n",
    "    elif string in ['Santiago']:\n",
    "        return \"metropolitana\"\n",
    "    else:\n",
    "        return ''"
   ]
  },
  {
   "cell_type": "code",
   "execution_count": 25,
   "metadata": {},
   "outputs": [],
   "source": [
    "anios = ['2014', '2015', '2016', '2017', '2018', '2019', '2020', '2021', '2022', '2023', '2024']\n",
    "xls_base = pd.read_excel(f\"{ruta_lectura}PROCIEN_Investigadores_julio.2024.xlsx\", \n",
    "    sheet_name=anios)"
   ]
  },
  {
   "cell_type": "code",
   "execution_count": 26,
   "metadata": {},
   "outputs": [],
   "source": [
    "lista_xls_ip = []\n",
    "for n in anios:\n",
    "    try:\n",
    "        tmp_xls = xls_base[n][['Código', 'Título corto', 'Nombre IP', 'Ciudad', 'Instituciones', 'Género']].to_numpy()\n",
    "    except:\n",
    "        tmp_xls = xls_base[n][['Código', 'Nombre corto', 'Nombre IP', 'Ciudad', 'Instituciones', 'Género']].to_numpy()\n",
    "\n",
    "    for code, titulo, name, ciudad, inst, genero in tmp_xls:\n",
    "        if pd.isna(name):\n",
    "            pass\n",
    "        else:\n",
    "            if \" - \" in name:\n",
    "                name = name.split(\"-\")\n",
    "                name = [n.strip() for n in name]\n",
    "            \n",
    "            elif \" / \" in name:\n",
    "                name = name.split(\"/\")\n",
    "                name = [n.strip() for n in name]\n",
    "            else:\n",
    "                pass\n",
    "            \n",
    "            #print( n, code, titulo, name, ciudad, inst, genero )\n",
    "            codigo = code.split('_')[0].strip().upper()\n",
    "            codigo_general = agrupacion_general(codigo)\n",
    "            \n",
    "\n",
    "            if pd.isna(titulo):\n",
    "                titulo = ''\n",
    "\n",
    "            if type(name) == list:\n",
    "                for no in name:\n",
    "                    lista_xls_ip.append( [code, codigo, codigo_general, n, titulo.lower(), \n",
    "                        no.lower(), macrozona_anid(ciudad), inst, genero] )\n",
    "            else:\n",
    "                lista_xls_ip.append( [code, codigo, codigo_general, n, titulo.lower(), \n",
    "                        name.lower(), macrozona_anid(ciudad), inst, genero] )"
   ]
  },
  {
   "cell_type": "code",
   "execution_count": 27,
   "metadata": {},
   "outputs": [],
   "source": [
    "aux_dataframe = pd.DataFrame(lista_xls_ip, columns=['codigo', 'tipo proyecto', 'agrupacion proyecto', 'anio', 'titulo', 'nombre ip', 'macrozona', 'institucion', 'genero'])\n",
    "aux_dataframe.to_excel(f\"{ruta_final}investigadores-principales-procien.xlsx\")"
   ]
  }
 ],
 "metadata": {
  "kernelspec": {
   "display_name": "venv",
   "language": "python",
   "name": "python3"
  },
  "language_info": {
   "codemirror_mode": {
    "name": "ipython",
    "version": 3
   },
   "file_extension": ".py",
   "mimetype": "text/x-python",
   "name": "python",
   "nbconvert_exporter": "python",
   "pygments_lexer": "ipython3",
   "version": "3.12.4"
  }
 },
 "nbformat": 4,
 "nbformat_minor": 2
}
