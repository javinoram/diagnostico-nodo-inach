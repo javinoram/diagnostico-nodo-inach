{
 "cells": [
  {
   "cell_type": "code",
   "execution_count": 1,
   "metadata": {},
   "outputs": [],
   "source": [
    "import pandas as pd\n",
    "import os\n",
    "import numpy as np"
   ]
  },
  {
   "cell_type": "markdown",
   "metadata": {},
   "source": [
    "## Normalizar nombres"
   ]
  },
  {
   "cell_type": "markdown",
   "metadata": {},
   "source": [
    "### funciones especiales"
   ]
  },
  {
   "cell_type": "code",
   "execution_count": 2,
   "metadata": {},
   "outputs": [],
   "source": [
    "from nombres import normalizacion_nombres\n",
    "\n",
    "def limpiar_tildes( string ):\n",
    "    if 'á' in string:\n",
    "        string = string.replace('á', 'a')\n",
    "    if 'é' in string:\n",
    "        string = string.replace('é', 'e')\n",
    "    if 'ó' in string:\n",
    "        string = string.replace('ó', 'o')\n",
    "    if 'í' in string:\n",
    "        string = string.replace('í', 'i')\n",
    "    if 'ú' in string:\n",
    "        string = string.replace('ú', 'u')\n",
    "    return string\n",
    "\n",
    "def normalizar_nombres( string ):\n",
    "    if string in normalizacion_nombres.keys():\n",
    "        return normalizacion_nombres[string]\n",
    "    return string\n"
   ]
  },
  {
   "cell_type": "markdown",
   "metadata": {},
   "source": [
    "### ecas"
   ]
  },
  {
   "cell_type": "code",
   "execution_count": 3,
   "metadata": {},
   "outputs": [],
   "source": [
    "xls_todos_eca = pd.read_excel(f\"personas/data-unificada-eca.xlsx\", sheet_name=['todos'])['todos']\n",
    "xls_pi_eca = pd.read_excel(f\"personas/data-unificada-eca.xlsx\", sheet_name=['pi'])['pi']"
   ]
  },
  {
   "cell_type": "code",
   "execution_count": 4,
   "metadata": {},
   "outputs": [],
   "source": [
    "personas = []\n",
    "tmp_list = []\n",
    "for row in xls_pi_eca[['ip', 'inst', 'email']].to_numpy().tolist():\n",
    "    ip, inst, email = row\n",
    "    ip = limpiar_tildes( ip.lower().strip() )\n",
    "    ip = normalizar_nombres( ip )\n",
    "    if ip not in personas:\n",
    "        tmp_list.append( [ip, inst, email] )\n",
    "        personas.append( ip )"
   ]
  },
  {
   "cell_type": "code",
   "execution_count": 5,
   "metadata": {},
   "outputs": [],
   "source": [
    "for row in xls_todos_eca[['nombre', 'institucion', 'email']].to_numpy().tolist():\n",
    "    ip, inst, email = row\n",
    "    ip = limpiar_tildes( ip.lower().strip() )\n",
    "    ip = normalizar_nombres( ip )\n",
    "    if ip not in personas:\n",
    "        tmp_list.append( [ip, inst, email] )\n",
    "        personas.append( ip )"
   ]
  },
  {
   "cell_type": "markdown",
   "metadata": {},
   "source": [
    "### procien"
   ]
  },
  {
   "cell_type": "code",
   "execution_count": 6,
   "metadata": {},
   "outputs": [],
   "source": [
    "xls_asociados_procien = pd.read_excel(f\"personas/detalles-asociados-procien.xlsx\")\n",
    "xls_proyectos_procien = pd.read_excel(f\"personas/detalles-proyectos-procien.xlsx\")"
   ]
  },
  {
   "cell_type": "code",
   "execution_count": 7,
   "metadata": {},
   "outputs": [],
   "source": [
    "for row in xls_proyectos_procien[['nombre ip', 'institucion']].to_numpy().tolist():\n",
    "    ip, inst = row\n",
    "    ip = limpiar_tildes( ip.lower().strip() )\n",
    "    ip = normalizar_nombres( ip )\n",
    "    if ip not in personas:\n",
    "        tmp_list.append( [ip, inst, 'noinf'] )\n",
    "        personas.append( ip )"
   ]
  },
  {
   "cell_type": "code",
   "execution_count": 8,
   "metadata": {},
   "outputs": [],
   "source": [
    "for row in xls_asociados_procien[['nombre', 'afiliacion']].to_numpy().tolist():\n",
    "    ip, inst = row\n",
    "    ip = limpiar_tildes( ip.lower().strip() )\n",
    "    ip = normalizar_nombres( ip )\n",
    "    if ip not in personas:\n",
    "        tmp_list.append( [ip, inst, 'noinf'] )\n",
    "        personas.append( ip )"
   ]
  },
  {
   "cell_type": "markdown",
   "metadata": {},
   "source": [
    "### wos"
   ]
  },
  {
   "cell_type": "code",
   "execution_count": 9,
   "metadata": {},
   "outputs": [],
   "source": [
    "xls_wos_chile = pd.read_excel(f\"personas/valores-limpios-v1.xlsx\")[['Authors', 'Author Full Names', 'Addresses', 'Affiliations', 'Email Addresses']]"
   ]
  },
  {
   "cell_type": "code",
   "execution_count": null,
   "metadata": {},
   "outputs": [],
   "source": [
    "new_names = []\n",
    "\n",
    "for row in xls_wos_chile.to_numpy().tolist():\n",
    "    authors, full_name, addres, affiliations, email = row\n",
    "    \n",
    "    todos_nombres = [ n.strip() for n in full_name.lower().split(';') ]\n",
    "    todas_afiliciaciones = [ a.strip() for a in addres.lower().split(';') if 'chile' in a]\n",
    "    #print(todas_afiliciaciones)\n",
    "    for nombre in todos_nombres:\n",
    "        ape, nom =  nombre.split(',')[:2]\n",
    "        nombre_clean = f\"{nom.strip()} {ape.strip()}\".lower().strip()\n",
    "        nombre_clean = limpiar_tildes( nombre_clean.lower().strip() )\n",
    "\n",
    "        for inst in todas_afiliciaciones:\n",
    "            if nombre in inst:\n",
    "                if nombre_clean not in personas:\n",
    "                    nombre_clean = normalizar_nombres( nombre_clean )\n",
    "                    tmp_list.append( [nombre_clean, inst, email] )\n",
    "                    personas.append( nombre_clean )\n",
    "                else:\n",
    "                    new_names.append(nombre_clean)"
   ]
  },
  {
   "cell_type": "code",
   "execution_count": 11,
   "metadata": {},
   "outputs": [],
   "source": [
    "full_dataframe = pd.DataFrame(np.array(tmp_list), columns=['nombre', 'institucion', 'email'])\n",
    "full_dataframe.to_excel(f\"personas/detalle-personas.xlsx\")"
   ]
  },
  {
   "cell_type": "markdown",
   "metadata": {},
   "source": [
    "## Contar"
   ]
  },
  {
   "cell_type": "code",
   "execution_count": 34,
   "metadata": {},
   "outputs": [],
   "source": [
    "xls_todas = pd.read_excel(f\"personas/detalle-personas.xlsx\")[['nombre', 'institucion', 'email']].to_numpy().tolist()\n",
    "\n",
    "tmp_list = []\n",
    "xls_todas_personas = []#list( set( [n[0] for n in xls_todas_personas] ) )\n",
    "for row in xls_todas:\n",
    "    if row[0] in tmp_list:\n",
    "        pass\n",
    "    else:\n",
    "        xls_todas_personas.append( row )\n",
    "        tmp_list.append( row[0] )"
   ]
  },
  {
   "cell_type": "code",
   "execution_count": 35,
   "metadata": {},
   "outputs": [],
   "source": [
    "xls_todos_eca = pd.read_excel(f\"personas/data-unificada-eca.xlsx\", sheet_name=['todos'])['todos'][['nombre', 'eca', 'codigo']]\n",
    "xls_asociados_procien = pd.read_excel(f\"personas/detalles-asociados-procien.xlsx\")[['nombre']]\n",
    "xls_wos_chile = pd.read_excel(f\"personas/valores-limpios-v1.xlsx\")[['Author Full Names']]"
   ]
  },
  {
   "cell_type": "code",
   "execution_count": 36,
   "metadata": {},
   "outputs": [],
   "source": [
    "final_list = []\n",
    "for (name, institucion, email) in xls_todas_personas:\n",
    "    #name = name[0]\n",
    "    eca_aparicion = 0\n",
    "    for row in xls_todos_eca.to_numpy().tolist():\n",
    "        if name == normalizar_nombres( limpiar_tildes( row[0].lower().strip() ) ):\n",
    "            eca_aparicion += 1\n",
    "\n",
    "    procien_aparicion = 0\n",
    "    for row in xls_asociados_procien.to_numpy().tolist():\n",
    "        if name == normalizar_nombres( limpiar_tildes( row[0].lower().strip() ) ):\n",
    "            procien_aparicion += 1\n",
    "\n",
    "    wos_aparicion = 0\n",
    "    for row in xls_wos_chile.to_numpy().tolist():\n",
    "        \n",
    "        todos_nombres = [ n.strip() for n in row[0].lower().split(';') ]\n",
    "        todos_nombres = [ f\"{nom.strip()} {ape.strip()}\".lower().strip() \n",
    "                for ape,nom in [n.split(',')[:2] for n in todos_nombres] ]\n",
    "        todos_nombres = [ normalizar_nombres( limpiar_tildes( nom.lower().strip() ) ) for nom in todos_nombres]\n",
    "        if name in todos_nombres:\n",
    "            wos_aparicion +=1\n",
    "    \n",
    "    final_list.append( [name, institucion, email, eca_aparicion, procien_aparicion, wos_aparicion] )"
   ]
  },
  {
   "cell_type": "code",
   "execution_count": 38,
   "metadata": {},
   "outputs": [],
   "source": [
    "full_dataframe = pd.DataFrame(np.array(final_list), columns=['nombre', 'institucion', 'email', 'eca', 'procien', 'wos'])\n",
    "full_dataframe.to_excel(f\"personas/final-personas.xlsx\")"
   ]
  },
  {
   "cell_type": "code",
   "execution_count": null,
   "metadata": {},
   "outputs": [],
   "source": []
  }
 ],
 "metadata": {
  "kernelspec": {
   "display_name": "venv",
   "language": "python",
   "name": "python3"
  },
  "language_info": {
   "codemirror_mode": {
    "name": "ipython",
    "version": 3
   },
   "file_extension": ".py",
   "mimetype": "text/x-python",
   "name": "python",
   "nbconvert_exporter": "python",
   "pygments_lexer": "ipython3",
   "version": "3.12.4"
  }
 },
 "nbformat": 4,
 "nbformat_minor": 2
}
