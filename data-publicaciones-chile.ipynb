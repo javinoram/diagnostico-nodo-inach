{
 "cells": [
  {
   "cell_type": "code",
   "execution_count": 1,
   "metadata": {},
   "outputs": [],
   "source": [
    "import pandas as pd\n",
    "import datetime\n",
    "import numpy as np\n",
    "from funciones import limpiar_caracteres_especiales\n",
    "from funciones import categorizacion_fondos_wos, filtrar_normalizacion_funding_wos, normalizar_casa_publicacion\n",
    "from area_ocde import wos_to_ocde"
   ]
  },
  {
   "cell_type": "code",
   "execution_count": 9,
   "metadata": {},
   "outputs": [],
   "source": [
    "#ciencias naturales, ingenieria y tecnologia, ciencias medicas y de la salud, ciencias agricolas, ciencias sociales, humanidades\n",
    "def vector_ocde(vector, area):\n",
    "    if area=='ciencias naturales':\n",
    "        vector[0] = 'si'\n",
    "    elif area=='ingenieria y tecnologia':\n",
    "        vector[1] = 'si'\n",
    "    elif area=='ciencias medicas y de la salud':\n",
    "        vector[2] = 'si'\n",
    "    elif area=='ciencias agricolas':\n",
    "        vector[3] = 'si'\n",
    "    elif area=='ciencias sociales':\n",
    "        vector[4] = 'si'\n",
    "    elif area=='ciencias humanidades':\n",
    "        vector[5] = 'si'\n",
    "    return vector"
   ]
  },
  {
   "cell_type": "markdown",
   "metadata": {},
   "source": [
    "### Trabajos WOS"
   ]
  },
  {
   "cell_type": "code",
   "execution_count": 10,
   "metadata": {},
   "outputs": [],
   "source": [
    "tmp_xls = []\n",
    "lista_areas = []\n",
    "\n",
    "for n in [1, 2]:\n",
    "    xls_base = pd.read_excel(f\"raw-data/wos/chile-2010-2023({n}).xls\")\n",
    "    for i,row in enumerate( xls_base.to_numpy().tolist() ):\n",
    "        authors_short = [ limpiar_caracteres_especiales( n.lower().strip() ) for n in row[0].split(';') ]\n",
    "        authors_full = [ limpiar_caracteres_especiales( n.lower().strip() ) for n in row[1].split(';') ]\n",
    "    \n",
    "        source_title = limpiar_caracteres_especiales( row[2].lower().strip() )\n",
    "        funding = row[15]\n",
    "        funding = funding.split(';')\n",
    "        funding = [ categorizacion_fondos_wos(f) for f in funding ]\n",
    "        anid, inach, extranjero, corfo, otro, uni = filtrar_normalizacion_funding_wos( funding )\n",
    "\n",
    "        year = row[30]\n",
    "        doi = row[31]\n",
    "        address = row[9]\n",
    "\n",
    "        num_cites = row[20]\n",
    "\n",
    "        affiliation = limpiar_caracteres_especiales( row[9].lower().strip() )\n",
    "        aff_paper = 'no'\n",
    "        if 'chile' in affiliation:\n",
    "            aff_paper = 'si'\n",
    "\n",
    "        n_aff_chile = 0\n",
    "        n_aff_inter = 0\n",
    "        for person_full, person_short in zip(authors_full, authors_short):\n",
    "            if any([ person_full in aff or person_short in aff for aff in affiliation.split(';') if 'chile' in aff]): \n",
    "                n_aff_chile += 1\n",
    "            else:\n",
    "                n_aff_inter += 1\n",
    "            \n",
    "        publish_house = normalizar_casa_publicacion( row[23] ) \n",
    "\n",
    "        theme = limpiar_caracteres_especiales( row[32].lower()).split(\";\")\n",
    "        #ciencias naturales, ingenieria y tecnologia, ciencias medicas y de la salud, ciencias agricolas, ciencias sociales, humanidades\n",
    "        vec_ocde = ['no', 'no', 'no', 'no', 'no', 'no']\n",
    "        if type(theme) == str:\n",
    "            tema = wos_to_ocde[theme]\n",
    "            vec_ocde = vector_ocde( vec_ocde, tema )\n",
    "        else:\n",
    "            for t in theme:\n",
    "                tema = wos_to_ocde[t.strip()]\n",
    "                vec_ocde = vector_ocde( vec_ocde, tema )\n",
    "        \n",
    "        tmp_xls.append([source_title, doi, year, anid, inach, extranjero, corfo, \n",
    "            uni, otro, aff_paper, n_aff_chile, n_aff_inter, n_aff_chile+n_aff_inter, publish_house, num_cites,\n",
    "            vec_ocde[0], vec_ocde[1], vec_ocde[2], vec_ocde[3], vec_ocde[4], vec_ocde[5]])"
   ]
  },
  {
   "cell_type": "code",
   "execution_count": 11,
   "metadata": {},
   "outputs": [],
   "source": [
    "fecha = datetime.datetime.now()\n",
    "\n",
    "full_dataframe = pd.DataFrame(np.array(tmp_xls), columns=['titulo', 'doi', 'anio', 'fin-anid', 'fin-inach', 'fin-extranjero', \n",
    "        'fin-corfo', 'fin-uni', 'fin-otro', 'aff-chile', 'n-chilenos', 'n-extranjeros', 'n-personas', 'publisher', 'cites',\n",
    "        'a1', 'a2', 'a3', 'a4', 'a5', 'a6'])\n",
    "full_dataframe.to_excel(f\"wos/WOS-todos-papers.xlsx\")"
   ]
  }
 ],
 "metadata": {
  "kernelspec": {
   "display_name": "venv",
   "language": "python",
   "name": "python3"
  },
  "language_info": {
   "codemirror_mode": {
    "name": "ipython",
    "version": 3
   },
   "file_extension": ".py",
   "mimetype": "text/x-python",
   "name": "python",
   "nbconvert_exporter": "python",
   "pygments_lexer": "ipython3",
   "version": "3.12.4"
  }
 },
 "nbformat": 4,
 "nbformat_minor": 2
}
