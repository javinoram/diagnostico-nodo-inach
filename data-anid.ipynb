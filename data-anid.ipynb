{
 "cells": [
  {
   "cell_type": "code",
   "execution_count": 1,
   "metadata": {},
   "outputs": [],
   "source": [
    "import pandas as pd\n",
    "import os\n",
    "import numpy as np"
   ]
  },
  {
   "cell_type": "code",
   "execution_count": 2,
   "metadata": {},
   "outputs": [],
   "source": [
    "ruta_base = \"anid/datos-separados/\"\n",
    "ruta_final = \"anid/finales/\""
   ]
  },
  {
   "cell_type": "markdown",
   "metadata": {},
   "source": [
    "## Unificar datos"
   ]
  },
  {
   "cell_type": "code",
   "execution_count": 3,
   "metadata": {},
   "outputs": [],
   "source": [
    "xls1 = pd.read_excel(f\"{ruta_base}BDH_PROYECTOS_1982_2002.xlsx\")\n",
    "xls2 = pd.read_excel(f\"{ruta_base}BDH_PROYECTOS_2003_2022.xlsx\")\n",
    "xls3 = pd.read_excel(f\"{ruta_base}BDH_PROYECTOS_2023_2032.xlsx\")\n",
    "\n",
    "xls_unificado = pd.concat( [xls1, xls2, xls3] )\n",
    "xls_unificado.to_excel(f\"{ruta_final}proyectos-unificados-anid.xlsx\")"
   ]
  },
  {
   "cell_type": "markdown",
   "metadata": {},
   "source": [
    "## Filtro para buscar temas antarticos"
   ]
  },
  {
   "cell_type": "code",
   "execution_count": 4,
   "metadata": {},
   "outputs": [],
   "source": [
    "tmp_array = xls_unificado.to_numpy()\n",
    "final_list = []\n",
    "\n",
    "for row in tmp_array:\n",
    "    if type(row[22]) != float and type(row[8]) != float:\n",
    "        #Solo buscar temas antarticos\n",
    "        if (\"ANTARC\" in row[22].upper() or \"ANTART\" in row[22].upper() or \"ANTARC\" in row[8].upper() or \"ANTART\" in row[8].upper()):\n",
    "            final_list.append( row )\n",
    "        else:\n",
    "            pass"
   ]
  },
  {
   "cell_type": "code",
   "execution_count": 5,
   "metadata": {},
   "outputs": [],
   "source": [
    "dt = pd.DataFrame( np.array(final_list), columns=['N', 'CODIGO_PROYECTO', 'SUBDIRECCION', 'PROGRAMA', 'INSTRUMENTO',\n",
    "       'NOMBRE_CONCURSO', 'AGNO_CONCURSO', 'AGNO_FALLO', 'NOMBRE_PROYECTO',\n",
    "       'AREA_OCDE', 'DISCIPLINA_DETALLE', 'GRUPO_DE_EVALUACION',\n",
    "       'DURACION_MESES', 'TIPO_BENEFICIARIO', 'NOMBRE_RESPONSABLE', 'SEXO',\n",
    "       'INSTITUCION_PRINCIPAL', 'MACROZONA_MINCIENCIA', 'REGION_EJECUCION',\n",
    "       'MONTO_ADJUDICADO', 'NOTA_MONTO', 'MONEDA', 'PALABRAS_CLAVES'])\n",
    "dt.to_excel(f\"{ruta_final}proyectos-primer-filtro.xlsx\")"
   ]
  },
  {
   "cell_type": "markdown",
   "metadata": {},
   "source": [
    "## Agregar columna de tema antartico al excel completo"
   ]
  },
  {
   "cell_type": "code",
   "execution_count": 4,
   "metadata": {},
   "outputs": [],
   "source": [
    "xls1 = pd.read_excel(f\"{ruta_base}BDH_PROYECTOS_1982_2002.xlsx\")\n",
    "xls2 = pd.read_excel(f\"{ruta_base}BDH_PROYECTOS_2003_2022.xlsx\")\n",
    "xls3 = pd.read_excel(f\"{ruta_base}BDH_PROYECTOS_2023_2032.xlsx\")\n",
    "\n",
    "xls = pd.concat( [xls1, xls2, xls3] )"
   ]
  },
  {
   "cell_type": "code",
   "execution_count": 5,
   "metadata": {},
   "outputs": [],
   "source": [
    "xls_antartico = pd.read_excel(f\"anid/filtrado-amano.xlsx\")['CODIGO_PROYECTO'].tolist()"
   ]
  },
  {
   "cell_type": "code",
   "execution_count": 6,
   "metadata": {},
   "outputs": [],
   "source": [
    "todos_codigos_proyecto = xls['CODIGO_PROYECTO'].tolist()\n",
    "lista_booleana = []\n",
    "\n",
    "for codigo in todos_codigos_proyecto:\n",
    "    if codigo in xls_antartico:\n",
    "        lista_booleana.append('SI')\n",
    "    else:\n",
    "        lista_booleana.append('NO')"
   ]
  },
  {
   "cell_type": "code",
   "execution_count": 7,
   "metadata": {},
   "outputs": [],
   "source": [
    "tmp_array = xls.to_numpy().T.tolist()\n",
    "tmp_array.append( lista_booleana )\n",
    "tmp_array = np.array( tmp_array ).T"
   ]
  },
  {
   "cell_type": "code",
   "execution_count": 21,
   "metadata": {},
   "outputs": [],
   "source": [
    "dt = pd.DataFrame( tmp_array, columns=['N', 'CODIGO_PROYECTO', 'SUBDIRECCION', 'PROGRAMA', 'INSTRUMENTO',\n",
    "       'NOMBRE_CONCURSO', 'AGNO_CONCURSO', 'AGNO_FALLO', 'NOMBRE_PROYECTO',\n",
    "       'AREA_OCDE', 'DISCIPLINA_DETALLE', 'GRUPO_DE_EVALUACION',\n",
    "       'DURACION_MESES', 'TIPO_BENEFICIARIO', 'NOMBRE_RESPONSABLE', 'SEXO',\n",
    "       'INSTITUCION_PRINCIPAL', 'MACROZONA_MINCIENCIA', 'REGION_EJECUCION',\n",
    "       'MONTO_ADJUDICADO', 'NOTA_MONTO', 'MONEDA', 'PALABRAS_CLAVES', 'ANTARTIC'])\n",
    "dt = dt.drop(columns=['N', 'AGNO_CONCURSO', 'DURACION_MESES', 'NOTA_MONTO', \n",
    "       'DISCIPLINA_DETALLE', 'GRUPO_DE_EVALUACION', 'TIPO_BENEFICIARIO'])"
   ]
  },
  {
   "cell_type": "code",
   "execution_count": null,
   "metadata": {},
   "outputs": [],
   "source": [
    "tmp_list=[]\n",
    "\n",
    "for row in dt.to_numpy().tolist():\n",
    "    codigo, subdir, programa, instrumento, nombre_concurso, agno, nombre_proyecto, area_ocde, responsable, sexo, insti, macro, region, monto, moneda, palabras, antartic = row\n",
    "    \n",
    "    if pd.isna(monto) or monto=='NO SOLICITA A CONICYT':\n",
    "        monto=0.0\n",
    "    else:\n",
    "        if type(monto) == str:\n",
    "            monto = float( monto.replace(',', '.') )\n",
    "\n",
    "    if moneda == 'EUROS':\n",
    "        #monto = monto.replace(',', '.')\n",
    "        monto = float(monto)*1042.36/1000.0\n",
    "\n",
    "    tmp_list.append([codigo, subdir, programa, instrumento, nombre_concurso, agno, nombre_proyecto, area_ocde,\n",
    "            responsable, sexo, insti, macro, region, monto, palabras, antartic])        \n",
    "    \n",
    "    new_dt = pd.DataFrame( np.array(tmp_list), columns=['CODIGO_PROYECTO', 'SUBDIRECCION', 'PROGRAMA', 'INSTRUMENTO',\n",
    "       'NOMBRE_CONCURSO', 'AGNO_FALLO', 'NOMBRE_PROYECTO',\n",
    "       'AREA_OCDE', 'NOMBRE_RESPONSABLE', 'SEXO',\n",
    "       'INSTITUCION_PRINCIPAL', 'MACROZONA_MINCIENCIA', 'REGION_EJECUCION',\n",
    "       'MONTO_ADJUDICADO', 'PALABRAS_CLAVES', 'ANTARTIC'])"
   ]
  },
  {
   "cell_type": "code",
   "execution_count": 30,
   "metadata": {},
   "outputs": [],
   "source": [
    "dt['MONTO_ADJUDICADO'] = dt['MONTO_ADJUDICADO'].fillna(0.0)"
   ]
  },
  {
   "cell_type": "code",
   "execution_count": null,
   "metadata": {},
   "outputs": [],
   "source": [
    "dt['CODIGO_PROYECTO'] = dt['CODIGO_PROYECTO'].astype(str)\n",
    "dt['MONTO_ADJUDICADO'] = dt['MONTO_ADJUDICADO'].astype(float)\n",
    "dt['AGNO_FALLO'] = dt['AGNO_FALLO'].astype(float)"
   ]
  },
  {
   "cell_type": "code",
   "execution_count": 16,
   "metadata": {},
   "outputs": [],
   "source": [
    "dt.to_excel(f\"{ruta_final}datos-totales-columna-nueva.xlsx\")"
   ]
  }
 ],
 "metadata": {
  "kernelspec": {
   "display_name": "venv",
   "language": "python",
   "name": "python3"
  },
  "language_info": {
   "codemirror_mode": {
    "name": "ipython",
    "version": 3
   },
   "file_extension": ".py",
   "mimetype": "text/x-python",
   "name": "python",
   "nbconvert_exporter": "python",
   "pygments_lexer": "ipython3",
   "version": "3.12.4"
  }
 },
 "nbformat": 4,
 "nbformat_minor": 2
}
