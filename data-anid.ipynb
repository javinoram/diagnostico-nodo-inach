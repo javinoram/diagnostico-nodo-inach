{
 "cells": [
  {
   "cell_type": "code",
   "execution_count": 2,
   "metadata": {},
   "outputs": [],
   "source": [
    "import pandas as pd\n",
    "import numpy as np"
   ]
  },
  {
   "cell_type": "markdown",
   "metadata": {},
   "source": [
    "### Merging data"
   ]
  },
  {
   "cell_type": "code",
   "execution_count": 3,
   "metadata": {},
   "outputs": [],
   "source": [
    "xls1 = pd.read_excel(f\"raw-data/anid/BDH_PROYECTOS_1982_2002.xlsx\")\n",
    "xls2 = pd.read_excel(f\"raw-data/anid/BDH_PROYECTOS_2003_2022.xlsx\")\n",
    "xls3 = pd.read_excel(f\"raw-data/anid/BDH_PROYECTOS_2023_2032.xlsx\")\n",
    "\n",
    "xls_unificado = pd.concat( [xls1, xls2, xls3] )\n",
    "xls_unificado.to_excel(f\"anid/ANID-todos.xlsx\")"
   ]
  },
  {
   "cell_type": "markdown",
   "metadata": {},
   "source": [
    "### Add flag for antartic project"
   ]
  },
  {
   "cell_type": "code",
   "execution_count": 38,
   "metadata": {},
   "outputs": [],
   "source": [
    "xls_unificado = pd.read_excel(f\"anid/ANID-todos.xlsx\")[['CODIGO_PROYECTO', 'SUBDIRECCION', 'PROGRAMA', 'INSTRUMENTO',\n",
    "       'NOMBRE_CONCURSO', 'AGNO_FALLO', 'NOMBRE_PROYECTO', 'AREA_OCDE', 'NOMBRE_RESPONSABLE', 'SEXO', 'INSTITUCION_PRINCIPAL', 'MACROZONA_MINCIENCIA', 'REGION_EJECUCION', 'MONTO_ADJUDICADO', 'MONEDA', 'PALABRAS_CLAVES']]\n",
    "xls_unificado['MONTO_ADJUDICADO'].fillna( 0 )\n",
    "xls_unificado['PROGRAMA'].fillna( 'noinf' )\n",
    "xls_unificado['MONEDA'].fillna( 'noinf' )\n",
    "xls_unificado['REGION_EJECUCION'].fillna( 'noinf' )\n",
    "xls_unificado['SEXO'].replace( 'HOMBRE', 'M' )\n",
    "xls_unificado['SEXO'].replace( 'MUJER', 'F' )\n",
    "\n",
    "xls_anid_antartic_filter = pd.read_excel(f\"raw-data/anid/ANID-filtro.xlsx\")[['CODIGO_PROYECTO', 'Efectivos']]\n",
    "xls_procien_antartic = pd.read_excel(f\"raw-data/procien/PROCIEN-ANID.xlsx\")[['codigo-procien', 'codigo-anid']]\n",
    "\n",
    "antartic_anid_codes_list = []\n",
    "antartic_procien_list = []\n",
    "antartic_anid_list = []\n",
    "for code, flag in xls_anid_antartic_filter.to_numpy().tolist():\n",
    "    code = str( code )\n",
    "    if flag=='si':\n",
    "        antartic_anid_list.append( code )\n",
    "        if code not in antartic_anid_codes_list:\n",
    "            antartic_anid_codes_list.append( code )\n",
    "\n",
    "for code_procien, code_anid in xls_procien_antartic.to_numpy().tolist():\n",
    "    code_anid = str( code_anid )\n",
    "    antartic_procien_list.append( code_anid )\n",
    "    if code_anid not in antartic_anid_codes_list:\n",
    "        antartic_anid_codes_list.append( code_anid )"
   ]
  },
  {
   "cell_type": "code",
   "execution_count": 39,
   "metadata": {},
   "outputs": [],
   "source": [
    "new_xls = []\n",
    "\n",
    "for row in xls_unificado.to_numpy().tolist():\n",
    "    new_row = row.copy()\n",
    "    codigo = str(new_row[0])\n",
    "\n",
    "    if new_row[14] == 'EUROS':\n",
    "        ##valor anio 2022\n",
    "        new_row[13] = 950*float(new_row[13])\n",
    "\n",
    "    flag_antartic = 'no'\n",
    "    if codigo in antartic_anid_codes_list: flag_antartic = 'si'\n",
    "\n",
    "    flag_procien = 'no'\n",
    "    if codigo in antartic_procien_list: flag_procien = 'si'\n",
    "\n",
    "    new_xls.append( new_row + [flag_antartic, flag_procien] )"
   ]
  },
  {
   "cell_type": "code",
   "execution_count": 40,
   "metadata": {},
   "outputs": [],
   "source": [
    "dt = pd.DataFrame( np.array(new_xls), columns=['CODIGO_PROYECTO', 'SUBDIRECCION', 'PROGRAMA', 'INSTRUMENTO',\n",
    "       'NOMBRE_CONCURSO', 'AGNO_FALLO', 'NOMBRE_PROYECTO', 'AREA_OCDE', 'NOMBRE_RESPONSABLE', 'SEXO', \n",
    "       'INSTITUCION_PRINCIPAL', 'MACROZONA_MINCIENCIA', 'REGION_EJECUCION', 'MONTO_ADJUDICADO', \n",
    "       'MONEDA', 'PALABRAS_CLAVES', 'ANTARTICO', 'PROCIEN'])\n",
    "dt.to_excel(f\"anid/ANID-antartic.xlsx\")"
   ]
  }
 ],
 "metadata": {
  "kernelspec": {
   "display_name": "venv",
   "language": "python",
   "name": "python3"
  },
  "language_info": {
   "codemirror_mode": {
    "name": "ipython",
    "version": 3
   },
   "file_extension": ".py",
   "mimetype": "text/x-python",
   "name": "python",
   "nbconvert_exporter": "python",
   "pygments_lexer": "ipython3",
   "version": "3.12.4"
  }
 },
 "nbformat": 4,
 "nbformat_minor": 2
}
