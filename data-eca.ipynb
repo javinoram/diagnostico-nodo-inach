{
 "cells": [
  {
   "cell_type": "code",
   "execution_count": 1,
   "metadata": {},
   "outputs": [],
   "source": [
    "import pandas as pd\n",
    "import os\n",
    "import numpy as np"
   ]
  },
  {
   "cell_type": "code",
   "execution_count": 2,
   "metadata": {},
   "outputs": [],
   "source": [
    "ruta_base = \"eca/datos-separados/\"\n",
    "ruta_final = \"eca/finales/\"\n",
    "lista_archivos = [f for f in os.listdir(f\"{ruta_base}\") if f[0]!='~' and '.xlsx' in f]"
   ]
  },
  {
   "cell_type": "markdown",
   "metadata": {},
   "source": [
    "## Lectura de excels"
   ]
  },
  {
   "cell_type": "code",
   "execution_count": 13,
   "metadata": {},
   "outputs": [
    {
     "name": "stderr",
     "output_type": "stream",
     "text": [
      "/Users/jnorambu/Documents/INACH/diagnostico-nodo-inach/venv/lib/python3.12/site-packages/openpyxl/worksheet/_reader.py:329: UserWarning: Unknown extension is not supported and will be removed\n",
      "  warn(msg)\n",
      "/Users/jnorambu/Documents/INACH/diagnostico-nodo-inach/venv/lib/python3.12/site-packages/openpyxl/worksheet/_reader.py:329: UserWarning: Unknown extension is not supported and will be removed\n",
      "  warn(msg)\n"
     ]
    }
   ],
   "source": [
    "encuestas = []\n",
    "responsables = []\n",
    "\n",
    "for f in lista_archivos:\n",
    "    if '56' in f:\n",
    "        xls = pd.read_excel(f\"{ruta_base}{f}\")\n",
    "        xls = xls.drop(columns=['Título corto','Unnamed: 0', 'M', 'F'])\n",
    "        xls = xls.rename(columns={'Código': 'CODIGO'})\n",
    "        xls = xls.astype({'Fecha Nacimiento': str, 'Celular': str, 'Rut/Pasaporte': str})\n",
    "        encuestas.append( xls )\n",
    "        \n",
    "    if '57' in f:\n",
    "        xls = pd.read_excel(f\"{ruta_base}{f}\")\n",
    "        xls = xls.drop(columns=['Título corto','Unnamed: 0', 'M', 'F'])\n",
    "        xls = xls.rename(columns={'Código': 'CODIGO'})\n",
    "        xls = xls.astype({'Fecha Nacimiento': str, 'Celular': str, 'Rut/Pasaporte': str})\n",
    "        encuestas.append( xls )\n",
    "        \n",
    "    if '58' in f:\n",
    "        xls = pd.read_excel(f\"{ruta_base}{f}\", sheet_name=['ENCUESTA', 'INV. RESPONSABLES'])\n",
    "        xls['ENCUESTA'] = xls['ENCUESTA'].drop(columns=['Tipo','Nombre proyecto', 'Nombre corto', 'Años duración', 'M', 'F', 'EXT','DJ', 'HDP',\n",
    "       'SEG.', 'C.MED.'])\n",
    "        xls['ENCUESTA'] = xls['ENCUESTA'].rename(columns={'Nombre Inv Principal': 'Nombre IP', 'código': 'CODIGO'})\n",
    "        xls['ENCUESTA'] = xls['ENCUESTA'].astype({'Fecha Nacimiento': str, 'Celular': str, 'Rut/Pasaporte': str})\n",
    "\n",
    "        xls['INV. RESPONSABLES'] = xls['INV. RESPONSABLES'].drop(columns=['Nombre proyecto', 'Años duración', 'Ciudad', 'Tipo'])\n",
    "        xls['INV. RESPONSABLES'] = xls['INV. RESPONSABLES'].rename(columns={'Código': 'CODIGO'})\n",
    "        \n",
    "        responsables.append( xls['INV. RESPONSABLES'] )\n",
    "        encuestas.append( xls['ENCUESTA'] )\n",
    "    if '59' in f:\n",
    "        xls = pd.read_excel(f\"{ruta_base}{f}\", sheet_name=['ENCUESTA', 'INV. RESPONSABLES'])\n",
    "        xls['ENCUESTA'] = xls['ENCUESTA'].drop(columns=['Nombre proyecto', 'Nombre corto', 'M', 'F', 'N/B'])\n",
    "        xls['ENCUESTA'] = xls['ENCUESTA'].rename(columns={'Nombre Inv Principal': 'Nombre IP'})\n",
    "        xls['ENCUESTA'] = xls['ENCUESTA'].astype({'Fecha Nacimiento': str, 'Celular': str, 'Rut/Pasaporte': str})\n",
    "\n",
    "        xls['INV. RESPONSABLES'] = xls['INV. RESPONSABLES'].drop(columns=['Tipo'])\n",
    "        xls['INV. RESPONSABLES'] = xls['INV. RESPONSABLES'].rename(columns={'Código': 'CODIGO'})\n",
    "        \n",
    "        \n",
    "        responsables.append( xls['INV. RESPONSABLES'] )\n",
    "        encuestas.append( xls['ENCUESTA'] )\n",
    "    if '60' in f:\n",
    "        xls = pd.read_excel(f\"{ruta_base}{f}\", sheet_name=['ENCUESTA', 'INV. RESPONSABLES'])\n",
    "        xls['ENCUESTA'] = xls['ENCUESTA'].drop(columns=['Nombre proyecto', 'Nombre corto', 'M', 'F', 'N/B'])\n",
    "        xls['ENCUESTA'] = xls['ENCUESTA'].rename(columns={'Nombre Inv Principal': 'Nombre IP'})\n",
    "        xls['ENCUESTA'] = xls['ENCUESTA'].astype({'Fecha Nacimiento': str, 'Celular': str, 'Rut/Pasaporte': str})\n",
    "\n",
    "        xls['INV. RESPONSABLES'] = xls['INV. RESPONSABLES'].drop(columns=['Tipo'])        \n",
    "        xls['INV. RESPONSABLES'] = xls['INV. RESPONSABLES'].rename(columns={'Código': 'CODIGO'})\n",
    "        \n",
    "        \n",
    "        responsables.append( xls['INV. RESPONSABLES'] )\n",
    "        encuestas.append( xls['ENCUESTA'] )\n"
   ]
  },
  {
   "cell_type": "markdown",
   "metadata": {},
   "source": [
    "## Personas asociadas a los proyectos"
   ]
  },
  {
   "cell_type": "code",
   "execution_count": 4,
   "metadata": {},
   "outputs": [],
   "source": [
    "diccionario_de_grupos = {\"B\":[], \"TMU\": [], \"PMU\": [], \"EST\": [], \n",
    "    \"TES\": [], \"INV\": [], \"ING\": [], \"MONT\": [], \"ASTL\": [],\n",
    "    \"ASTG\": [], \"TECN\": [], \"JEF\": [], \"COO\": [], \"OTRO\": []}\n",
    "\n",
    "def limpiar_funciones(x):\n",
    "    if type(x) != str:\n",
    "        return x\n",
    "    \n",
    "    final = \"\"\n",
    "    if 'buzo' in x.lower() or 'buceo' in x.lower():\n",
    "        if final!=\"\": final+=\"-\"\n",
    "        final+=\"B\"\n",
    "        diccionario_de_grupos[\"B\"].append( x.lower() )\n",
    "\n",
    "    if ('toma' in x.lower() or 'colec' in x.lower()):# and ('muestra' in x.lower() or 'datos' in x.lower() ):\n",
    "        if final!=\"\": final+=\"-\"\n",
    "        final+=\"TMU\"    \n",
    "        diccionario_de_grupos[\"TMU\"].append( x.lower() )\n",
    "    \n",
    "    if 'muestr' in x.lower() or 'procesamiento' in x.lower() or 'análisis' in x.lower() or 'sampling' in x.lower():\n",
    "        if final!=\"\": final+=\"-\"\n",
    "        final+=\"PMU\" \n",
    "        diccionario_de_grupos[\"PMU\"].append( x.lower() )\n",
    "\n",
    "    if 'estudiante' in x.lower() or 'posdoc' in x.lower():\n",
    "        if final!=\"\": final+=\"-\"\n",
    "        final+=\"EST\"\n",
    "        diccionario_de_grupos[\"EST\"].append( x.lower() )\n",
    "\n",
    "    if 'tesis' in x.lower():\n",
    "        if final!=\"\": final+=\"-\"\n",
    "        final+=\"TES\"\n",
    "        diccionario_de_grupos[\"TES\"].append( x.lower() )\n",
    "\n",
    "    if 'invest' in x.lower() or 'científico' in x.lower() or 'botanico' in x.lower() or 'microbiologa' in x.lower() or 'oceanografía física' in x.lower():\n",
    "        if final!=\"\": final+=\"-\"\n",
    "        final+=\"INV\"\n",
    "        diccionario_de_grupos[\"INV\"].append( x.lower() )\n",
    "\n",
    "    if 'ingeniero' in x.lower():\n",
    "        if final!=\"\": final+=\"-\"\n",
    "        final+=\"ING\"\n",
    "        diccionario_de_grupos[\"ING\"].append( x.lower() )\n",
    "\n",
    "    if 'montaña' in x.lower() or 'mountain' in x.lower():\n",
    "        if final!=\"\": final+=\"-\"\n",
    "        final+=\"MONT\"\n",
    "        diccionario_de_grupos[\"MONT\"].append( x.lower() )\n",
    "\n",
    "    if 'asisten' in x.lower() or 'ayudante' in x.lower() or 'apoyo' in x.lower():\n",
    "        if final!=\"\": final+=\"-\"\n",
    "        if 'laboratorio' in x.lower():\n",
    "            final+=\"ASTL\"\n",
    "            diccionario_de_grupos[\"ASTL\"].append( x.lower() )\n",
    "        else:\n",
    "            final+=\"ASTG\"\n",
    "            diccionario_de_grupos[\"ASTG\"].append( x.lower() )\n",
    "\n",
    "    if 'técnico' in x.lower() or 'tecnico' in x.lower() or 'technician' in x.lower() or 'encargado' in x.lower() or 'mantencion' in x.lower():\n",
    "        if final!=\"\": final+=\"-\"\n",
    "        final+=\"TECN\"\n",
    "        diccionario_de_grupos[\"TECN\"].append( x.lower() )\n",
    "        \n",
    "    if 'jefe' in x.lower() or 'jefa' in x.lower() or 'leader' in x.lower():\n",
    "        if final!=\"\": final+=\"-\"\n",
    "        final+=\"JEF\"\n",
    "        diccionario_de_grupos[\"JEF\"].append( x.lower() )\n",
    "\n",
    "    if 'coordi' in x.lower():\n",
    "        if final!=\"\": final+=\"-\"\n",
    "        final+=\"COO\"\n",
    "        diccionario_de_grupos[\"COO\"].append( x.lower() )\n",
    "    \n",
    "    if final==\"\":\n",
    "        diccionario_de_grupos[\"OTRO\"].append( x.lower() )\n",
    "        return \"OTRO\"\n",
    "    else:\n",
    "        return final\n",
    "\n",
    "def limpiar_codigo_proyecto(x):\n",
    "    if type(x) != str:\n",
    "        return x\n",
    "    tmp_list = x.split()\n",
    "    code = tmp_list[0]\n",
    "    code = code.replace(\"_\", \"-\")\n",
    "    tmp_list[0] = code\n",
    "    return code"
   ]
  },
  {
   "cell_type": "code",
   "execution_count": 5,
   "metadata": {},
   "outputs": [],
   "source": [
    "from private_data import equivalencia_nombre\n",
    "\n",
    "full_dataframe = pd.concat(encuestas)\n",
    "full_dataframe['Nombre IP'] = full_dataframe['Nombre IP'].str.upper()\n",
    "full_dataframe = full_dataframe.sort_values(['Nombre IP', 'CODIGO', 'Apellido'])\n",
    "full_dataframe['Nombre IP'] =  full_dataframe['Nombre IP'].replace(equivalencia_nombre)\n",
    "\n",
    "full_dataframe['CODIGO'] = full_dataframe['CODIGO'].apply( limpiar_codigo_proyecto )\n",
    "\n",
    "full_dataframe['Función a Desempeñar'] = full_dataframe['Función a Desempeñar'].apply( limpiar_funciones )\n",
    "full_dataframe['Función a Desempeñar'] = full_dataframe['Función a Desempeñar'].fillna(\"NOINF\")\n",
    "\n",
    "full_dataframe = full_dataframe.drop(columns=['Rut/Pasaporte', 'Fecha Nacimiento', 'Celular', 'N° PAX', ])\n"
   ]
  },
  {
   "cell_type": "code",
   "execution_count": 6,
   "metadata": {},
   "outputs": [],
   "source": [
    "nombres, apellidos = (full_dataframe[['Nombre', 'Apellido']]).to_numpy().T\n",
    "tmp_list1 = []\n",
    "for n, a in zip(nombres, apellidos):\n",
    "    full_name = f\"{a}, {n}\".lower()\n",
    "    tmp_list1.append(full_name)\n",
    "\n",
    "full_dataframe = full_dataframe.drop(columns=['Nombre', 'Apellido'])"
   ]
  },
  {
   "cell_type": "code",
   "execution_count": 7,
   "metadata": {},
   "outputs": [],
   "source": [
    "codigos= (full_dataframe[['CODIGO']]).to_numpy().tolist()\n",
    "tmp_list2 = []\n",
    "for code in codigos:\n",
    "    if type(code[0])==str:\n",
    "        if len( code[0].split(\"-\") )==3:\n",
    "            year = code[0].split(\"-\")#[2]\n",
    "            tmp_list2.append( year[2] )\n",
    "        else:\n",
    "            tmp_list2.append( '' )\n",
    "    else:\n",
    "        tmp_list2.append( '' )"
   ]
  },
  {
   "cell_type": "code",
   "execution_count": 8,
   "metadata": {},
   "outputs": [],
   "source": [
    "tmp_array = full_dataframe.to_numpy().T.tolist()\n",
    "tmp_array.append( tmp_list1 )\n",
    "tmp_array.append( tmp_list2 )"
   ]
  },
  {
   "cell_type": "code",
   "execution_count": 9,
   "metadata": {},
   "outputs": [],
   "source": [
    "full_dataframe = pd.DataFrame(np.array(tmp_array).T, columns=['codigo', 'ip', 'institucion', 'nacionalidad', 'genero', 'funcion', 'email', 'nombre completo', 'anio'])\n",
    "full_dataframe.to_excel(f\"{ruta_final}data-unificada-eca.xlsx\")"
   ]
  },
  {
   "cell_type": "markdown",
   "metadata": {},
   "source": [
    "## Investigadores principales de proyectos"
   ]
  },
  {
   "cell_type": "code",
   "execution_count": 23,
   "metadata": {},
   "outputs": [],
   "source": [
    "full_dataframe_ip = pd.concat(responsables).to_numpy().tolist()"
   ]
  },
  {
   "cell_type": "code",
   "execution_count": 28,
   "metadata": {},
   "outputs": [],
   "source": [
    "tmp_list = []\n",
    "for row in full_dataframe_ip:\n",
    "    codigo, titulo, ip, inst, email = row\n",
    "    codigo = limpiar_codigo_proyecto( codigo )\n",
    "    year = codigo.split(\"-\")[2]\n",
    "\n",
    "    if pd.isna( titulo ):\n",
    "        titulo=''\n",
    "    else:\n",
    "        pass\n",
    "\n",
    "    if \"/\" in ip:\n",
    "        ip = ip.split(\"/\")\n",
    "    elif \"-\" in ip:\n",
    "        ip = ip.split(\"/\")\n",
    "    \n",
    "    if type(ip) == list:\n",
    "        for p in ip:\n",
    "            tmp_list.append( [codigo.strip(), titulo.lower(), p.strip().lower(), inst.lower(), email, year] )\n",
    "    else:\n",
    "        tmp_list.append( [codigo.strip(), titulo.lower(), ip.strip().lower(), inst.lower(), email, year] )"
   ]
  },
  {
   "cell_type": "code",
   "execution_count": 29,
   "metadata": {},
   "outputs": [],
   "source": [
    "full_dataframe = pd.DataFrame(np.array(tmp_list), columns=['codigo', 'titulo', 'ip', 'institucion', 'email', 'anio'])\n",
    "full_dataframe.to_excel(f\"{ruta_final}investigadores-principales-eca.xlsx\")"
   ]
  }
 ],
 "metadata": {
  "kernelspec": {
   "display_name": "venv",
   "language": "python",
   "name": "python3"
  },
  "language_info": {
   "codemirror_mode": {
    "name": "ipython",
    "version": 3
   },
   "file_extension": ".py",
   "mimetype": "text/x-python",
   "name": "python",
   "nbconvert_exporter": "python",
   "pygments_lexer": "ipython3",
   "version": "3.12.4"
  }
 },
 "nbformat": 4,
 "nbformat_minor": 2
}
